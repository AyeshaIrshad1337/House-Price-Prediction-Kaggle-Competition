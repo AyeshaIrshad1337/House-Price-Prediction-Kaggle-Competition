{
 "cells": [
  {
   "cell_type": "code",
   "execution_count": 1,
   "id": "6f1587f1",
   "metadata": {
    "_cell_guid": "b1076dfc-b9ad-4769-8c92-a6c4dae69d19",
    "_uuid": "8f2839f25d086af736a60e9eeb907d3b93b6e0e5",
    "execution": {
     "iopub.execute_input": "2023-07-21T05:59:33.119245Z",
     "iopub.status.busy": "2023-07-21T05:59:33.118013Z",
     "iopub.status.idle": "2023-07-21T05:59:33.137203Z",
     "shell.execute_reply": "2023-07-21T05:59:33.135380Z"
    },
    "papermill": {
     "duration": 0.033184,
     "end_time": "2023-07-21T05:59:33.140050",
     "exception": false,
     "start_time": "2023-07-21T05:59:33.106866",
     "status": "completed"
    },
    "tags": []
   },
   "outputs": [
    {
     "name": "stdout",
     "output_type": "stream",
     "text": [
      "/kaggle/input/house-prices-advanced-regression-techniques/sample_submission.csv\n",
      "/kaggle/input/house-prices-advanced-regression-techniques/data_description.txt\n",
      "/kaggle/input/house-prices-advanced-regression-techniques/train.csv\n",
      "/kaggle/input/house-prices-advanced-regression-techniques/test.csv\n"
     ]
    }
   ],
   "source": [
    "# This Python 3 environment comes with many helpful analytics libraries installed\n",
    "# It is defined by the kaggle/python Docker image: https://github.com/kaggle/docker-python\n",
    "# For example, here's several helpful packages to load\n",
    "\n",
    "import numpy as np # linear algebra\n",
    "import pandas as pd # data processing, CSV file I/O (e.g. pd.read_csv)\n",
    "\n",
    "# Input data files are available in the read-only \"../input/\" directory\n",
    "# For example, running this (by clicking run or pressing Shift+Enter) will list all files under the input directory\n",
    "\n",
    "import os\n",
    "for dirname, _, filenames in os.walk('/kaggle/input'):\n",
    "    for filename in filenames:\n",
    "        print(os.path.join(dirname, filename))\n",
    "\n",
    "# You can write up to 20GB to the current directory (/kaggle/working/) that gets preserved as output when you create a version using \"Save & Run All\" \n",
    "# You can also write temporary files to /kaggle/temp/, but they won't be saved outside of the current session"
   ]
  },
  {
   "cell_type": "code",
   "execution_count": 2,
   "id": "f54efd69",
   "metadata": {
    "execution": {
     "iopub.execute_input": "2023-07-21T05:59:33.159423Z",
     "iopub.status.busy": "2023-07-21T05:59:33.158977Z",
     "iopub.status.idle": "2023-07-21T05:59:33.236514Z",
     "shell.execute_reply": "2023-07-21T05:59:33.235074Z"
    },
    "papermill": {
     "duration": 0.090326,
     "end_time": "2023-07-21T05:59:33.239362",
     "exception": false,
     "start_time": "2023-07-21T05:59:33.149036",
     "status": "completed"
    },
    "tags": []
   },
   "outputs": [
    {
     "name": "stdout",
     "output_type": "stream",
     "text": [
      "   Id  MSSubClass MSZoning  LotFrontage  LotArea Street Alley LotShape  \\\n",
      "0   1          60       RL         65.0     8450   Pave   NaN      Reg   \n",
      "1   2          20       RL         80.0     9600   Pave   NaN      Reg   \n",
      "2   3          60       RL         68.0    11250   Pave   NaN      IR1   \n",
      "3   4          70       RL         60.0     9550   Pave   NaN      IR1   \n",
      "4   5          60       RL         84.0    14260   Pave   NaN      IR1   \n",
      "\n",
      "  LandContour Utilities  ... PoolArea PoolQC Fence MiscFeature MiscVal MoSold  \\\n",
      "0         Lvl    AllPub  ...        0    NaN   NaN         NaN       0      2   \n",
      "1         Lvl    AllPub  ...        0    NaN   NaN         NaN       0      5   \n",
      "2         Lvl    AllPub  ...        0    NaN   NaN         NaN       0      9   \n",
      "3         Lvl    AllPub  ...        0    NaN   NaN         NaN       0      2   \n",
      "4         Lvl    AllPub  ...        0    NaN   NaN         NaN       0     12   \n",
      "\n",
      "  YrSold  SaleType  SaleCondition  SalePrice  \n",
      "0   2008        WD         Normal     208500  \n",
      "1   2007        WD         Normal     181500  \n",
      "2   2008        WD         Normal     223500  \n",
      "3   2006        WD        Abnorml     140000  \n",
      "4   2008        WD         Normal     250000  \n",
      "\n",
      "[5 rows x 81 columns]\n"
     ]
    }
   ],
   "source": [
    "df=pd.read_csv(\"/kaggle/input/house-prices-advanced-regression-techniques/train.csv\")\n",
    "print(df.head())"
   ]
  },
  {
   "cell_type": "code",
   "execution_count": 3,
   "id": "01141ef9",
   "metadata": {
    "execution": {
     "iopub.execute_input": "2023-07-21T05:59:33.261731Z",
     "iopub.status.busy": "2023-07-21T05:59:33.261206Z",
     "iopub.status.idle": "2023-07-21T05:59:33.317682Z",
     "shell.execute_reply": "2023-07-21T05:59:33.316322Z"
    },
    "papermill": {
     "duration": 0.071872,
     "end_time": "2023-07-21T05:59:33.321863",
     "exception": false,
     "start_time": "2023-07-21T05:59:33.249991",
     "status": "completed"
    },
    "tags": []
   },
   "outputs": [
    {
     "name": "stdout",
     "output_type": "stream",
     "text": [
      "<class 'pandas.core.frame.DataFrame'>\n",
      "RangeIndex: 1460 entries, 0 to 1459\n",
      "Data columns (total 81 columns):\n",
      " #   Column         Non-Null Count  Dtype  \n",
      "---  ------         --------------  -----  \n",
      " 0   Id             1460 non-null   int64  \n",
      " 1   MSSubClass     1460 non-null   int64  \n",
      " 2   MSZoning       1460 non-null   object \n",
      " 3   LotFrontage    1201 non-null   float64\n",
      " 4   LotArea        1460 non-null   int64  \n",
      " 5   Street         1460 non-null   object \n",
      " 6   Alley          91 non-null     object \n",
      " 7   LotShape       1460 non-null   object \n",
      " 8   LandContour    1460 non-null   object \n",
      " 9   Utilities      1460 non-null   object \n",
      " 10  LotConfig      1460 non-null   object \n",
      " 11  LandSlope      1460 non-null   object \n",
      " 12  Neighborhood   1460 non-null   object \n",
      " 13  Condition1     1460 non-null   object \n",
      " 14  Condition2     1460 non-null   object \n",
      " 15  BldgType       1460 non-null   object \n",
      " 16  HouseStyle     1460 non-null   object \n",
      " 17  OverallQual    1460 non-null   int64  \n",
      " 18  OverallCond    1460 non-null   int64  \n",
      " 19  YearBuilt      1460 non-null   int64  \n",
      " 20  YearRemodAdd   1460 non-null   int64  \n",
      " 21  RoofStyle      1460 non-null   object \n",
      " 22  RoofMatl       1460 non-null   object \n",
      " 23  Exterior1st    1460 non-null   object \n",
      " 24  Exterior2nd    1460 non-null   object \n",
      " 25  MasVnrType     1452 non-null   object \n",
      " 26  MasVnrArea     1452 non-null   float64\n",
      " 27  ExterQual      1460 non-null   object \n",
      " 28  ExterCond      1460 non-null   object \n",
      " 29  Foundation     1460 non-null   object \n",
      " 30  BsmtQual       1423 non-null   object \n",
      " 31  BsmtCond       1423 non-null   object \n",
      " 32  BsmtExposure   1422 non-null   object \n",
      " 33  BsmtFinType1   1423 non-null   object \n",
      " 34  BsmtFinSF1     1460 non-null   int64  \n",
      " 35  BsmtFinType2   1422 non-null   object \n",
      " 36  BsmtFinSF2     1460 non-null   int64  \n",
      " 37  BsmtUnfSF      1460 non-null   int64  \n",
      " 38  TotalBsmtSF    1460 non-null   int64  \n",
      " 39  Heating        1460 non-null   object \n",
      " 40  HeatingQC      1460 non-null   object \n",
      " 41  CentralAir     1460 non-null   object \n",
      " 42  Electrical     1459 non-null   object \n",
      " 43  1stFlrSF       1460 non-null   int64  \n",
      " 44  2ndFlrSF       1460 non-null   int64  \n",
      " 45  LowQualFinSF   1460 non-null   int64  \n",
      " 46  GrLivArea      1460 non-null   int64  \n",
      " 47  BsmtFullBath   1460 non-null   int64  \n",
      " 48  BsmtHalfBath   1460 non-null   int64  \n",
      " 49  FullBath       1460 non-null   int64  \n",
      " 50  HalfBath       1460 non-null   int64  \n",
      " 51  BedroomAbvGr   1460 non-null   int64  \n",
      " 52  KitchenAbvGr   1460 non-null   int64  \n",
      " 53  KitchenQual    1460 non-null   object \n",
      " 54  TotRmsAbvGrd   1460 non-null   int64  \n",
      " 55  Functional     1460 non-null   object \n",
      " 56  Fireplaces     1460 non-null   int64  \n",
      " 57  FireplaceQu    770 non-null    object \n",
      " 58  GarageType     1379 non-null   object \n",
      " 59  GarageYrBlt    1379 non-null   float64\n",
      " 60  GarageFinish   1379 non-null   object \n",
      " 61  GarageCars     1460 non-null   int64  \n",
      " 62  GarageArea     1460 non-null   int64  \n",
      " 63  GarageQual     1379 non-null   object \n",
      " 64  GarageCond     1379 non-null   object \n",
      " 65  PavedDrive     1460 non-null   object \n",
      " 66  WoodDeckSF     1460 non-null   int64  \n",
      " 67  OpenPorchSF    1460 non-null   int64  \n",
      " 68  EnclosedPorch  1460 non-null   int64  \n",
      " 69  3SsnPorch      1460 non-null   int64  \n",
      " 70  ScreenPorch    1460 non-null   int64  \n",
      " 71  PoolArea       1460 non-null   int64  \n",
      " 72  PoolQC         7 non-null      object \n",
      " 73  Fence          281 non-null    object \n",
      " 74  MiscFeature    54 non-null     object \n",
      " 75  MiscVal        1460 non-null   int64  \n",
      " 76  MoSold         1460 non-null   int64  \n",
      " 77  YrSold         1460 non-null   int64  \n",
      " 78  SaleType       1460 non-null   object \n",
      " 79  SaleCondition  1460 non-null   object \n",
      " 80  SalePrice      1460 non-null   int64  \n",
      "dtypes: float64(3), int64(35), object(43)\n",
      "memory usage: 924.0+ KB\n"
     ]
    }
   ],
   "source": [
    "df.info()"
   ]
  },
  {
   "cell_type": "code",
   "execution_count": 4,
   "id": "5c48253a",
   "metadata": {
    "execution": {
     "iopub.execute_input": "2023-07-21T05:59:33.342250Z",
     "iopub.status.busy": "2023-07-21T05:59:33.340656Z",
     "iopub.status.idle": "2023-07-21T05:59:33.353247Z",
     "shell.execute_reply": "2023-07-21T05:59:33.351670Z"
    },
    "papermill": {
     "duration": 0.026035,
     "end_time": "2023-07-21T05:59:33.356481",
     "exception": false,
     "start_time": "2023-07-21T05:59:33.330446",
     "status": "completed"
    },
    "tags": []
   },
   "outputs": [
    {
     "data": {
      "text/plain": [
       "Pave    1454\n",
       "Grvl       6\n",
       "Name: Street, dtype: int64"
      ]
     },
     "execution_count": 4,
     "metadata": {},
     "output_type": "execute_result"
    }
   ],
   "source": [
    "df[\"Street\"].value_counts()"
   ]
  },
  {
   "cell_type": "code",
   "execution_count": 5,
   "id": "dcc9bcec",
   "metadata": {
    "execution": {
     "iopub.execute_input": "2023-07-21T05:59:33.380228Z",
     "iopub.status.busy": "2023-07-21T05:59:33.379521Z",
     "iopub.status.idle": "2023-07-21T05:59:33.389740Z",
     "shell.execute_reply": "2023-07-21T05:59:33.387962Z"
    },
    "papermill": {
     "duration": 0.02676,
     "end_time": "2023-07-21T05:59:33.393088",
     "exception": false,
     "start_time": "2023-07-21T05:59:33.366328",
     "status": "completed"
    },
    "tags": []
   },
   "outputs": [
    {
     "data": {
      "text/plain": [
       "Grvl    50\n",
       "Pave    41\n",
       "Name: Alley, dtype: int64"
      ]
     },
     "execution_count": 5,
     "metadata": {},
     "output_type": "execute_result"
    }
   ],
   "source": [
    "df[\"Alley\"].value_counts()"
   ]
  },
  {
   "cell_type": "code",
   "execution_count": 6,
   "id": "10b1ee77",
   "metadata": {
    "execution": {
     "iopub.execute_input": "2023-07-21T05:59:33.413665Z",
     "iopub.status.busy": "2023-07-21T05:59:33.412954Z",
     "iopub.status.idle": "2023-07-21T05:59:33.425909Z",
     "shell.execute_reply": "2023-07-21T05:59:33.424378Z"
    },
    "papermill": {
     "duration": 0.026033,
     "end_time": "2023-07-21T05:59:33.428644",
     "exception": false,
     "start_time": "2023-07-21T05:59:33.402611",
     "status": "completed"
    },
    "tags": []
   },
   "outputs": [
    {
     "data": {
      "text/plain": [
       "Reg    925\n",
       "IR1    484\n",
       "IR2     41\n",
       "IR3     10\n",
       "Name: LotShape, dtype: int64"
      ]
     },
     "execution_count": 6,
     "metadata": {},
     "output_type": "execute_result"
    }
   ],
   "source": [
    "df[\"LotShape\"].value_counts()"
   ]
  },
  {
   "cell_type": "code",
   "execution_count": 7,
   "id": "635f60a6",
   "metadata": {
    "execution": {
     "iopub.execute_input": "2023-07-21T05:59:33.449464Z",
     "iopub.status.busy": "2023-07-21T05:59:33.449018Z",
     "iopub.status.idle": "2023-07-21T05:59:33.459940Z",
     "shell.execute_reply": "2023-07-21T05:59:33.458599Z"
    },
    "papermill": {
     "duration": 0.025461,
     "end_time": "2023-07-21T05:59:33.463353",
     "exception": false,
     "start_time": "2023-07-21T05:59:33.437892",
     "status": "completed"
    },
    "tags": []
   },
   "outputs": [
    {
     "data": {
      "text/plain": [
       "Lvl    1311\n",
       "Bnk      63\n",
       "HLS      50\n",
       "Low      36\n",
       "Name: LandContour, dtype: int64"
      ]
     },
     "execution_count": 7,
     "metadata": {},
     "output_type": "execute_result"
    }
   ],
   "source": [
    "df[\"LandContour\"].value_counts()"
   ]
  },
  {
   "cell_type": "code",
   "execution_count": 8,
   "id": "b5090b47",
   "metadata": {
    "execution": {
     "iopub.execute_input": "2023-07-21T05:59:33.483885Z",
     "iopub.status.busy": "2023-07-21T05:59:33.483465Z",
     "iopub.status.idle": "2023-07-21T05:59:33.495955Z",
     "shell.execute_reply": "2023-07-21T05:59:33.493849Z"
    },
    "papermill": {
     "duration": 0.027005,
     "end_time": "2023-07-21T05:59:33.499208",
     "exception": false,
     "start_time": "2023-07-21T05:59:33.472203",
     "status": "completed"
    },
    "tags": []
   },
   "outputs": [
    {
     "data": {
      "text/plain": [
       "AllPub    1459\n",
       "NoSeWa       1\n",
       "Name: Utilities, dtype: int64"
      ]
     },
     "execution_count": 8,
     "metadata": {},
     "output_type": "execute_result"
    }
   ],
   "source": [
    "df[\"Utilities\"].value_counts()"
   ]
  },
  {
   "cell_type": "code",
   "execution_count": 9,
   "id": "7bcf8b49",
   "metadata": {
    "execution": {
     "iopub.execute_input": "2023-07-21T05:59:33.520042Z",
     "iopub.status.busy": "2023-07-21T05:59:33.519626Z",
     "iopub.status.idle": "2023-07-21T05:59:33.531213Z",
     "shell.execute_reply": "2023-07-21T05:59:33.529725Z"
    },
    "papermill": {
     "duration": 0.026329,
     "end_time": "2023-07-21T05:59:33.534670",
     "exception": false,
     "start_time": "2023-07-21T05:59:33.508341",
     "status": "completed"
    },
    "tags": []
   },
   "outputs": [
    {
     "data": {
      "text/plain": [
       "Inside     1052\n",
       "Corner      263\n",
       "CulDSac      94\n",
       "FR2          47\n",
       "FR3           4\n",
       "Name: LotConfig, dtype: int64"
      ]
     },
     "execution_count": 9,
     "metadata": {},
     "output_type": "execute_result"
    }
   ],
   "source": [
    "df[\"LotConfig\"].value_counts()"
   ]
  },
  {
   "cell_type": "code",
   "execution_count": 10,
   "id": "9781e911",
   "metadata": {
    "execution": {
     "iopub.execute_input": "2023-07-21T05:59:33.557580Z",
     "iopub.status.busy": "2023-07-21T05:59:33.557112Z",
     "iopub.status.idle": "2023-07-21T05:59:33.567404Z",
     "shell.execute_reply": "2023-07-21T05:59:33.566153Z"
    },
    "papermill": {
     "duration": 0.025301,
     "end_time": "2023-07-21T05:59:33.569942",
     "exception": false,
     "start_time": "2023-07-21T05:59:33.544641",
     "status": "completed"
    },
    "tags": []
   },
   "outputs": [
    {
     "data": {
      "text/plain": [
       "Gtl    1382\n",
       "Mod      65\n",
       "Sev      13\n",
       "Name: LandSlope, dtype: int64"
      ]
     },
     "execution_count": 10,
     "metadata": {},
     "output_type": "execute_result"
    }
   ],
   "source": [
    "df[\"LandSlope\"].value_counts()"
   ]
  },
  {
   "cell_type": "code",
   "execution_count": 11,
   "id": "07aa3329",
   "metadata": {
    "execution": {
     "iopub.execute_input": "2023-07-21T05:59:33.593078Z",
     "iopub.status.busy": "2023-07-21T05:59:33.592297Z",
     "iopub.status.idle": "2023-07-21T05:59:33.604260Z",
     "shell.execute_reply": "2023-07-21T05:59:33.602825Z"
    },
    "papermill": {
     "duration": 0.026816,
     "end_time": "2023-07-21T05:59:33.607349",
     "exception": false,
     "start_time": "2023-07-21T05:59:33.580533",
     "status": "completed"
    },
    "tags": []
   },
   "outputs": [
    {
     "data": {
      "text/plain": [
       "NAmes      225\n",
       "CollgCr    150\n",
       "OldTown    113\n",
       "Edwards    100\n",
       "Somerst     86\n",
       "Gilbert     79\n",
       "NridgHt     77\n",
       "Sawyer      74\n",
       "NWAmes      73\n",
       "SawyerW     59\n",
       "BrkSide     58\n",
       "Crawfor     51\n",
       "Mitchel     49\n",
       "NoRidge     41\n",
       "Timber      38\n",
       "IDOTRR      37\n",
       "ClearCr     28\n",
       "StoneBr     25\n",
       "SWISU       25\n",
       "MeadowV     17\n",
       "Blmngtn     17\n",
       "BrDale      16\n",
       "Veenker     11\n",
       "NPkVill      9\n",
       "Blueste      2\n",
       "Name: Neighborhood, dtype: int64"
      ]
     },
     "execution_count": 11,
     "metadata": {},
     "output_type": "execute_result"
    }
   ],
   "source": [
    "df[\"Neighborhood\"].value_counts()"
   ]
  },
  {
   "cell_type": "code",
   "execution_count": 12,
   "id": "5ece975f",
   "metadata": {
    "execution": {
     "iopub.execute_input": "2023-07-21T05:59:33.629707Z",
     "iopub.status.busy": "2023-07-21T05:59:33.629282Z",
     "iopub.status.idle": "2023-07-21T05:59:33.639622Z",
     "shell.execute_reply": "2023-07-21T05:59:33.638415Z"
    },
    "papermill": {
     "duration": 0.024881,
     "end_time": "2023-07-21T05:59:33.642629",
     "exception": false,
     "start_time": "2023-07-21T05:59:33.617748",
     "status": "completed"
    },
    "tags": []
   },
   "outputs": [
    {
     "data": {
      "text/plain": [
       "Norm      1260\n",
       "Feedr       81\n",
       "Artery      48\n",
       "RRAn        26\n",
       "PosN        19\n",
       "RRAe        11\n",
       "PosA         8\n",
       "RRNn         5\n",
       "RRNe         2\n",
       "Name: Condition1, dtype: int64"
      ]
     },
     "execution_count": 12,
     "metadata": {},
     "output_type": "execute_result"
    }
   ],
   "source": [
    "df[\"Condition1\"].value_counts()"
   ]
  },
  {
   "cell_type": "code",
   "execution_count": 13,
   "id": "b309c9ab",
   "metadata": {
    "execution": {
     "iopub.execute_input": "2023-07-21T05:59:33.664906Z",
     "iopub.status.busy": "2023-07-21T05:59:33.664450Z",
     "iopub.status.idle": "2023-07-21T05:59:33.675387Z",
     "shell.execute_reply": "2023-07-21T05:59:33.673471Z"
    },
    "papermill": {
     "duration": 0.026664,
     "end_time": "2023-07-21T05:59:33.678809",
     "exception": false,
     "start_time": "2023-07-21T05:59:33.652145",
     "status": "completed"
    },
    "tags": []
   },
   "outputs": [
    {
     "data": {
      "text/plain": [
       "Norm      1445\n",
       "Feedr        6\n",
       "Artery       2\n",
       "RRNn         2\n",
       "PosN         2\n",
       "PosA         1\n",
       "RRAn         1\n",
       "RRAe         1\n",
       "Name: Condition2, dtype: int64"
      ]
     },
     "execution_count": 13,
     "metadata": {},
     "output_type": "execute_result"
    }
   ],
   "source": [
    "df[\"Condition2\"].value_counts()"
   ]
  },
  {
   "cell_type": "code",
   "execution_count": 14,
   "id": "09342233",
   "metadata": {
    "execution": {
     "iopub.execute_input": "2023-07-21T05:59:33.701721Z",
     "iopub.status.busy": "2023-07-21T05:59:33.701290Z",
     "iopub.status.idle": "2023-07-21T05:59:33.713156Z",
     "shell.execute_reply": "2023-07-21T05:59:33.711924Z"
    },
    "papermill": {
     "duration": 0.025808,
     "end_time": "2023-07-21T05:59:33.715920",
     "exception": false,
     "start_time": "2023-07-21T05:59:33.690112",
     "status": "completed"
    },
    "tags": []
   },
   "outputs": [
    {
     "data": {
      "text/plain": [
       "1Fam      1220\n",
       "TwnhsE     114\n",
       "Duplex      52\n",
       "Twnhs       43\n",
       "2fmCon      31\n",
       "Name: BldgType, dtype: int64"
      ]
     },
     "execution_count": 14,
     "metadata": {},
     "output_type": "execute_result"
    }
   ],
   "source": [
    "df[\"BldgType\"].value_counts()"
   ]
  },
  {
   "cell_type": "code",
   "execution_count": 15,
   "id": "c726e00a",
   "metadata": {
    "execution": {
     "iopub.execute_input": "2023-07-21T05:59:33.740622Z",
     "iopub.status.busy": "2023-07-21T05:59:33.740210Z",
     "iopub.status.idle": "2023-07-21T05:59:33.750837Z",
     "shell.execute_reply": "2023-07-21T05:59:33.749482Z"
    },
    "papermill": {
     "duration": 0.02731,
     "end_time": "2023-07-21T05:59:33.754299",
     "exception": false,
     "start_time": "2023-07-21T05:59:33.726989",
     "status": "completed"
    },
    "tags": []
   },
   "outputs": [
    {
     "data": {
      "text/plain": [
       "1Story    726\n",
       "2Story    445\n",
       "1.5Fin    154\n",
       "SLvl       65\n",
       "SFoyer     37\n",
       "1.5Unf     14\n",
       "2.5Unf     11\n",
       "2.5Fin      8\n",
       "Name: HouseStyle, dtype: int64"
      ]
     },
     "execution_count": 15,
     "metadata": {},
     "output_type": "execute_result"
    }
   ],
   "source": [
    "df[\"HouseStyle\"].value_counts()"
   ]
  },
  {
   "cell_type": "code",
   "execution_count": 16,
   "id": "723689f0",
   "metadata": {
    "execution": {
     "iopub.execute_input": "2023-07-21T05:59:33.779482Z",
     "iopub.status.busy": "2023-07-21T05:59:33.779046Z",
     "iopub.status.idle": "2023-07-21T05:59:33.789342Z",
     "shell.execute_reply": "2023-07-21T05:59:33.787598Z"
    },
    "papermill": {
     "duration": 0.026112,
     "end_time": "2023-07-21T05:59:33.792005",
     "exception": false,
     "start_time": "2023-07-21T05:59:33.765893",
     "status": "completed"
    },
    "tags": []
   },
   "outputs": [
    {
     "data": {
      "text/plain": [
       "5     397\n",
       "6     374\n",
       "7     319\n",
       "8     168\n",
       "4     116\n",
       "9      43\n",
       "3      20\n",
       "10     18\n",
       "2       3\n",
       "1       2\n",
       "Name: OverallQual, dtype: int64"
      ]
     },
     "execution_count": 16,
     "metadata": {},
     "output_type": "execute_result"
    }
   ],
   "source": [
    "df[\"OverallQual\"].value_counts()"
   ]
  },
  {
   "cell_type": "code",
   "execution_count": 17,
   "id": "71b85629",
   "metadata": {
    "execution": {
     "iopub.execute_input": "2023-07-21T05:59:33.817211Z",
     "iopub.status.busy": "2023-07-21T05:59:33.816678Z",
     "iopub.status.idle": "2023-07-21T05:59:33.826546Z",
     "shell.execute_reply": "2023-07-21T05:59:33.825604Z"
    },
    "papermill": {
     "duration": 0.026114,
     "end_time": "2023-07-21T05:59:33.829733",
     "exception": false,
     "start_time": "2023-07-21T05:59:33.803619",
     "status": "completed"
    },
    "tags": []
   },
   "outputs": [
    {
     "data": {
      "text/plain": [
       "5    821\n",
       "6    252\n",
       "7    205\n",
       "8     72\n",
       "4     57\n",
       "3     25\n",
       "9     22\n",
       "2      5\n",
       "1      1\n",
       "Name: OverallCond, dtype: int64"
      ]
     },
     "execution_count": 17,
     "metadata": {},
     "output_type": "execute_result"
    }
   ],
   "source": [
    "df[\"OverallCond\"].value_counts()"
   ]
  },
  {
   "cell_type": "code",
   "execution_count": 18,
   "id": "c3679b96",
   "metadata": {
    "execution": {
     "iopub.execute_input": "2023-07-21T05:59:33.854814Z",
     "iopub.status.busy": "2023-07-21T05:59:33.854050Z",
     "iopub.status.idle": "2023-07-21T05:59:33.866960Z",
     "shell.execute_reply": "2023-07-21T05:59:33.865756Z"
    },
    "papermill": {
     "duration": 0.028312,
     "end_time": "2023-07-21T05:59:33.869358",
     "exception": false,
     "start_time": "2023-07-21T05:59:33.841046",
     "status": "completed"
    },
    "tags": []
   },
   "outputs": [
    {
     "data": {
      "text/plain": [
       "2006    67\n",
       "2005    64\n",
       "2004    54\n",
       "2007    49\n",
       "2003    45\n",
       "        ..\n",
       "1875     1\n",
       "1911     1\n",
       "1917     1\n",
       "1872     1\n",
       "1905     1\n",
       "Name: YearBuilt, Length: 112, dtype: int64"
      ]
     },
     "execution_count": 18,
     "metadata": {},
     "output_type": "execute_result"
    }
   ],
   "source": [
    "df[\"YearBuilt\"].value_counts()"
   ]
  },
  {
   "cell_type": "code",
   "execution_count": 19,
   "id": "58cf301f",
   "metadata": {
    "execution": {
     "iopub.execute_input": "2023-07-21T05:59:33.894798Z",
     "iopub.status.busy": "2023-07-21T05:59:33.893330Z",
     "iopub.status.idle": "2023-07-21T05:59:33.903381Z",
     "shell.execute_reply": "2023-07-21T05:59:33.902175Z"
    },
    "papermill": {
     "duration": 0.025504,
     "end_time": "2023-07-21T05:59:33.906435",
     "exception": false,
     "start_time": "2023-07-21T05:59:33.880931",
     "status": "completed"
    },
    "tags": []
   },
   "outputs": [
    {
     "data": {
      "text/plain": [
       "1872"
      ]
     },
     "execution_count": 19,
     "metadata": {},
     "output_type": "execute_result"
    }
   ],
   "source": [
    "df[\"YearBuilt\"].min()"
   ]
  },
  {
   "cell_type": "code",
   "execution_count": 20,
   "id": "ae8692cc",
   "metadata": {
    "execution": {
     "iopub.execute_input": "2023-07-21T05:59:33.931139Z",
     "iopub.status.busy": "2023-07-21T05:59:33.930719Z",
     "iopub.status.idle": "2023-07-21T05:59:33.938802Z",
     "shell.execute_reply": "2023-07-21T05:59:33.937584Z"
    },
    "papermill": {
     "duration": 0.022985,
     "end_time": "2023-07-21T05:59:33.941201",
     "exception": false,
     "start_time": "2023-07-21T05:59:33.918216",
     "status": "completed"
    },
    "tags": []
   },
   "outputs": [
    {
     "data": {
      "text/plain": [
       "2010"
      ]
     },
     "execution_count": 20,
     "metadata": {},
     "output_type": "execute_result"
    }
   ],
   "source": [
    "df[\"YearBuilt\"].max()"
   ]
  },
  {
   "cell_type": "code",
   "execution_count": 21,
   "id": "b8af1a22",
   "metadata": {
    "execution": {
     "iopub.execute_input": "2023-07-21T05:59:33.965625Z",
     "iopub.status.busy": "2023-07-21T05:59:33.965147Z",
     "iopub.status.idle": "2023-07-21T05:59:33.974610Z",
     "shell.execute_reply": "2023-07-21T05:59:33.973307Z"
    },
    "papermill": {
     "duration": 0.024725,
     "end_time": "2023-07-21T05:59:33.977243",
     "exception": false,
     "start_time": "2023-07-21T05:59:33.952518",
     "status": "completed"
    },
    "tags": []
   },
   "outputs": [
    {
     "name": "stdout",
     "output_type": "stream",
     "text": [
      "1950    178\n",
      "2006     97\n",
      "2007     76\n",
      "2005     73\n",
      "2004     62\n",
      "       ... \n",
      "2010      6\n",
      "1986      5\n",
      "1952      5\n",
      "1983      5\n",
      "1951      4\n",
      "Name: YearRemodAdd, Length: 61, dtype: int64\n",
      "min:  1950\n",
      "max:  2010\n"
     ]
    }
   ],
   "source": [
    "print(df[\"YearRemodAdd\"].value_counts())\n",
    "print(\"min: \",df[\"YearRemodAdd\"].min())\n",
    "print(\"max: \",df[\"YearRemodAdd\"].max())"
   ]
  },
  {
   "cell_type": "code",
   "execution_count": null,
   "id": "ef91ef6d",
   "metadata": {
    "papermill": {
     "duration": 0.011827,
     "end_time": "2023-07-21T05:59:34.000171",
     "exception": false,
     "start_time": "2023-07-21T05:59:33.988344",
     "status": "completed"
    },
    "tags": []
   },
   "outputs": [],
   "source": []
  }
 ],
 "metadata": {
  "kernelspec": {
   "display_name": "Python 3",
   "language": "python",
   "name": "python3"
  },
  "language_info": {
   "codemirror_mode": {
    "name": "ipython",
    "version": 3
   },
   "file_extension": ".py",
   "mimetype": "text/x-python",
   "name": "python",
   "nbconvert_exporter": "python",
   "pygments_lexer": "ipython3",
   "version": "3.10.12"
  },
  "papermill": {
   "default_parameters": {},
   "duration": 15.471735,
   "end_time": "2023-07-21T05:59:35.035539",
   "environment_variables": {},
   "exception": null,
   "input_path": "__notebook__.ipynb",
   "output_path": "__notebook__.ipynb",
   "parameters": {},
   "start_time": "2023-07-21T05:59:19.563804",
   "version": "2.4.0"
  }
 },
 "nbformat": 4,
 "nbformat_minor": 5
}
